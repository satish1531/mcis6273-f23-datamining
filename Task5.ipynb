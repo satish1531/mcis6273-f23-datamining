{
 "cells": [
  {
   "cell_type": "code",
   "execution_count": 3,
   "id": "c9fac8b9-6789-4e57-8bc5-96c90e1de463",
   "metadata": {},
   "outputs": [
    {
     "name": "stdout",
     "output_type": "stream",
     "text": [
      "Top 5 Most Frequent Words in all_words.csv:\n",
      "  word  frequency\n",
      "0  the       2723\n",
      "1   of       1883\n",
      "2   is       1323\n",
      "3   to       1253\n",
      "4  and       1011\n",
      "\n",
      "Top 5 Most Frequent Words in all_uppercase_words.csv:\n",
      "   word  frequency\n",
      "0   The        191\n",
      "1     I        149\n",
      "2    It        120\n",
      "3   But        119\n",
      "4  Thus        113\n",
      "\n",
      "Top 5 Most Frequent Words in all_words.csv:\n",
      "  word  frequency\n",
      "0  the       2723\n",
      "1   of       1883\n",
      "2   is       1323\n",
      "3   to       1253\n",
      "4  and       1011\n",
      "\n",
      "Top 5 Most Frequent Words in all_uppercase_words.csv:\n",
      "   word  frequency\n",
      "0   The        191\n",
      "1     I        149\n",
      "2    It        120\n",
      "3   But        119\n",
      "4  Thus        113\n"
     ]
    }
   ],
   "source": [
    "import re\n",
    "import pandas as pd\n",
    "\n",
    "# Read the text file\n",
    "with open(\"pg5827.txt\", \"r\", encoding=\"utf-8\") as file:\n",
    "    text = file.read()\n",
    "\n",
    "# Tokenize and clean the text\n",
    "words = re.findall(r\"\\b[\\w'-]+\\b\", text.lower())  # Tokenize and convert to lowercase\n",
    "word_freq = pd.Series(words).value_counts().reset_index()  # Count word frequencies\n",
    "word_freq.columns = [\"word\", \"frequency\"]\n",
    "\n",
    "# Export to CSV\n",
    "word_freq.to_csv(\"all_words.csv\", index=False)\n",
    "# Extract capitalized words with frequencies\n",
    "capitalized_words = re.findall(r\"\\b[A-Z][\\w'-]*\\b\", text)\n",
    "capitalized_word_freq = pd.Series(capitalized_words).value_counts().reset_index()\n",
    "capitalized_word_freq.columns = [\"word\", \"frequency\"]\n",
    "\n",
    "# Export to CSV\n",
    "capitalized_word_freq.to_csv(\"all_uppercase_words.csv\", index=False)\n",
    "# Read the CSV files\n",
    "all_words_df = pd.read_csv(\"all_words.csv\")\n",
    "all_uppercase_words_df = pd.read_csv(\"all_uppercase_words.csv\")\n",
    "\n",
    "# 1. The 5 most frequent words in all_words.csv\n",
    "top_5_words_all = all_words_df.head(5)\n",
    "\n",
    "# 2. The 5 most frequent words in all_uppercase_words.csv\n",
    "top_5_words_uppercase = all_uppercase_words_df.head(5)\n",
    "\n",
    "# 3. Compare and contrast the top 5 words\n",
    "# Display the top 5 words for both cases\n",
    "print(\"Top 5 Most Frequent Words in all_words.csv:\")\n",
    "print(top_5_words_all)\n",
    "print(\"\\nTop 5 Most Frequent Words in all_uppercase_words.csv:\")\n",
    "print(top_5_words_uppercase)\n",
    "\n",
    "# 4. Describe surprising parts of each list\n",
    "# Your own observations\n",
    "\n",
    "# Display the top 5 most frequent words in both datasets\n",
    "print(\"\\nTop 5 Most Frequent Words in all_words.csv:\")\n",
    "print(top_5_words_all)\n",
    "print(\"\\nTop 5 Most Frequent Words in all_uppercase_words.csv:\")\n",
    "print(top_5_words_uppercase)"
   ]
  },
  {
   "cell_type": "code",
   "execution_count": null,
   "id": "fefb4819-ac3d-41a5-8580-a0d798074909",
   "metadata": {},
   "outputs": [],
   "source": []
  }
 ],
 "metadata": {
  "kernelspec": {
   "display_name": "Python 3 (ipykernel)",
   "language": "python",
   "name": "python3"
  },
  "language_info": {
   "codemirror_mode": {
    "name": "ipython",
    "version": 3
   },
   "file_extension": ".py",
   "mimetype": "text/x-python",
   "name": "python",
   "nbconvert_exporter": "python",
   "pygments_lexer": "ipython3",
   "version": "3.10.12"
  }
 },
 "nbformat": 4,
 "nbformat_minor": 5
}
